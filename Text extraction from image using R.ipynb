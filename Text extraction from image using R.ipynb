{
 "cells": [
  {
   "cell_type": "markdown",
   "id": "28435d4f-77a7-4279-add4-d5dc75189e14",
   "metadata": {},
   "source": [
    "# Importing of Libraries\n",
    "- In this section, we will import all the necessary libraries that are required to perform the desired task."
   ]
  },
  {
   "cell_type": "code",
   "execution_count": 1,
   "id": "c496e452-4543-47fc-b0b3-f34424e24a8c",
   "metadata": {},
   "outputs": [
    {
     "name": "stderr",
     "output_type": "stream",
     "text": [
      "Installing package into 'C:/Users/Pronay Ghosh/Documents/R/win-library/4.1'\n",
      "(as 'lib' is unspecified)\n",
      "\n"
     ]
    },
    {
     "name": "stdout",
     "output_type": "stream",
     "text": [
      "package 'tesseract' successfully unpacked and MD5 sums checked\n",
      "\n",
      "The downloaded binary packages are in\n",
      "\tC:\\Users\\Pronay Ghosh\\AppData\\Local\\Temp\\RtmpuoJdTJ\\downloaded_packages\n"
     ]
    }
   ],
   "source": [
    "install.packages(\"tesseract\")\n",
    "library(tesseract)"
   ]
  },
  {
   "cell_type": "markdown",
   "id": "2ae5b68f-9a86-4b49-88d5-d87c1e848517",
   "metadata": {},
   "source": [
    "# Performing Text Extraction\n",
    "- In this section we will simply extract the text from an image using the Teserract liabrary"
   ]
  },
  {
   "cell_type": "code",
   "execution_count": 2,
   "id": "4982b409-74ce-47c7-87d2-63e7fcbc1ca1",
   "metadata": {},
   "outputs": [],
   "source": [
    "# Defining the text extraction function\n",
    "extract_text = function(file)\n",
    "    {\n",
    "    \n",
    "    # Assignment to text\n",
    "    text <- ocr(file)\n",
    "    \n",
    "    # Returning\n",
    "    return(cat(text))\n",
    "}"
   ]
  },
  {
   "cell_type": "code",
   "execution_count": 4,
   "id": "6325a91f-8567-4b29-b232-7332e0cca5af",
   "metadata": {},
   "outputs": [
    {
     "name": "stdout",
     "output_type": "stream",
     "text": [
      "This is a lot of 12 point text to test the\n",
      "ocr code and see if it works on all types\n",
      "of file format.\n",
      "\n",
      "The quick brown dog jumped over the\n",
      "lazy fox. The quick brown dog jumped\n",
      "over the lazy fox. The quick brown dog\n",
      "jumped over the lazy fox. The quick\n",
      "brown dog jumped over the lazy fox.\n"
     ]
    }
   ],
   "source": [
    "# Calling the text extraction function \n",
    "extract_text(\"Reference Image.png\")"
   ]
  }
 ],
 "metadata": {
  "kernelspec": {
   "display_name": "R",
   "language": "R",
   "name": "ir"
  },
  "language_info": {
   "codemirror_mode": "r",
   "file_extension": ".r",
   "mimetype": "text/x-r-source",
   "name": "R",
   "pygments_lexer": "r",
   "version": "4.1.0"
  }
 },
 "nbformat": 4,
 "nbformat_minor": 5
}
